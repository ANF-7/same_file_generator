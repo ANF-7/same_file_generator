{
 "cells": [
  {
   "cell_type": "markdown",
   "id": "2b6e121c",
   "metadata": {},
   "source": [
    "# Read the file and check the existance of the text file"
   ]
  },
  {
   "cell_type": "code",
   "execution_count": 24,
   "id": "cace1843",
   "metadata": {},
   "outputs": [],
   "source": [
    "# Read the input text file\n",
    "input_file_path = \"C:/Users/HP/Desktop/after exm studies/Study Abroad/template_with_gap.txt\"\n",
    "#change the file path according to the location of the user's device\n",
    "try:\n",
    "    with open(input_file_path, \"r\", encoding=\"utf-8\") as file:\n",
    "        file_content = file.read()\n",
    "except FileNotFoundError:\n",
    "    print(f\"Error: File '{input_file_path}' not found.\")\n",
    "    exit()"
   ]
  },
  {
   "cell_type": "markdown",
   "id": "ef6057a3",
   "metadata": {},
   "source": [
    "# Take different inputs that needs to be changed in the input text file"
   ]
  },
  {
   "cell_type": "code",
   "execution_count": 25,
   "id": "2e859d4f",
   "metadata": {},
   "outputs": [
    {
     "name": "stdout",
     "output_type": "stream",
     "text": [
      "Enter the name of the Professor: Dan Brown\n",
      "Enter the name of the Department: ME\n",
      "Enter the name of the University: BUET\n",
      "Enter the name multidisciplinary application of : Solid Mechanics, Fluid Machinery\n",
      "Your publication regarding - name of the publication : Analysis of HEA\n",
      "really interested in the DEPARTMENT NAME : Me & NAME\n"
     ]
    }
   ],
   "source": [
    "# Get two input strings from the user\n",
    "string1 = input(\"Enter the name of the Professor: \")\n",
    "string2 = input(\"Enter the name of the Department: \")\n",
    "string3 = input(\"Enter the name of the University: \")\n",
    "string4 = input(\"Enter the name multidisciplinary application of : \")\n",
    "string5 = input(\"Your publication regarding - name of the publication : \")\n",
    "string6 = input(\"really interested in the DEPARTMENT NAME : \")\n",
    "#string7 = input(\"Enter the name multidisciplinary application of : \")\n",
    "#string8 = input(\"Enter the name multidisciplinary application of : \")"
   ]
  },
  {
   "cell_type": "markdown",
   "id": "ebc3ccab",
   "metadata": {},
   "source": [
    "# Replace the strings [INSERT HERE] with the given inputs"
   ]
  },
  {
   "cell_type": "code",
   "execution_count": 26,
   "id": "26642162",
   "metadata": {},
   "outputs": [],
   "source": [
    "# Replace placeholders with user input\n",
    "file_content = file_content.replace(\"[INSERT HERE]\", string1, 1)  # Replace the first occurrence\n",
    "file_content = file_content.replace(\"[INSERT HERE]\", string2, 1)  # Replace the second occurrence\n",
    "file_content = file_content.replace(\"[INSERT HERE]\", string3, 1)  # Replace the third occurrence\n",
    "file_content = file_content.replace(\"[INSERT HERE]\", string4, 1)  # Replace the 4th occurrence\n",
    "file_content = file_content.replace(\"[INSERT HERE]\", string5, 1)  # Replace the 5th occurrence\n",
    "file_content = file_content.replace(\"[INSERT HERE]\", string6, 1)  # Replace the 6th occurrence\n",
    "#file_content = file_content.replace(\"[INSERT HERE]\", string7, 1)  # Replace the 7th occurrence"
   ]
  },
  {
   "cell_type": "markdown",
   "id": "ecd658a4",
   "metadata": {},
   "source": [
    "# Creating the output text file"
   ]
  },
  {
   "cell_type": "code",
   "execution_count": 27,
   "id": "2ce79c35",
   "metadata": {},
   "outputs": [],
   "source": [
    "filename_portion = string1[:]\n",
    "# Construct the filename with the extracted portion\n",
    "# Save the modified content to a new file\n",
    "output_file_path = f\"C:/Users/HP/Desktop/after exm studies/Study Abroad/output_{filename_portion}_filled.txt\""
   ]
  },
  {
   "cell_type": "markdown",
   "id": "60b3fd19",
   "metadata": {},
   "source": [
    "# Writing in the output text file"
   ]
  },
  {
   "cell_type": "code",
   "execution_count": 28,
   "id": "482145b4",
   "metadata": {},
   "outputs": [
    {
     "name": "stdout",
     "output_type": "stream",
     "text": [
      "File 'C:/Users/HP/Desktop/after exm studies/Study Abroad/output_Dan Brown_filled.txt' has been created with placeholders replaced.\n"
     ]
    }
   ],
   "source": [
    "with open(output_file_path, \"w\") as file:\n",
    "    file.write(file_content)\n",
    "\n",
    "print(f\"File '{output_file_path}' has been created with placeholders replaced.\")"
   ]
  },
  {
   "cell_type": "code",
   "execution_count": null,
   "id": "35d1e2e8",
   "metadata": {},
   "outputs": [],
   "source": []
  }
 ],
 "metadata": {
  "kernelspec": {
   "display_name": "Python 3 (ipykernel)",
   "language": "python",
   "name": "python3"
  },
  "language_info": {
   "codemirror_mode": {
    "name": "ipython",
    "version": 3
   },
   "file_extension": ".py",
   "mimetype": "text/x-python",
   "name": "python",
   "nbconvert_exporter": "python",
   "pygments_lexer": "ipython3",
   "version": "3.10.9"
  }
 },
 "nbformat": 4,
 "nbformat_minor": 5
}
